{
 "cells": [
  {
   "cell_type": "code",
   "execution_count": 31,
   "metadata": {},
   "outputs": [],
   "source": [
    "import statistics as s\n",
    "import numpy as np\n",
    "import matplotlib.pyplot as mat\n",
    "\n",
    "# question 1\n",
    "nums = [3, 15, 16, 16, 19, 20, 20, 21, 22, 22, 23, 25, 25, 25, 30, 33,\n",
    "33, 33, 33, 35, 35, 36, 40, 45, 46, 52, 70]"
   ]
  },
  {
   "cell_type": "code",
   "execution_count": 32,
   "metadata": {},
   "outputs": [
    {
     "data": {
      "text/plain": [
       "29.37037037037037"
      ]
     },
     "execution_count": 32,
     "metadata": {},
     "output_type": "execute_result"
    }
   ],
   "source": [
    "# 1a\n",
    "s.mean(nums)"
   ]
  },
  {
   "cell_type": "code",
   "execution_count": 33,
   "metadata": {},
   "outputs": [
    {
     "data": {
      "text/plain": [
       "33"
      ]
     },
     "execution_count": 33,
     "metadata": {},
     "output_type": "execute_result"
    }
   ],
   "source": [
    "# 1b, could be bimodal if 25 is considered, which appears 3 times while 33 appears 4 times. however, 33 is the clear mode here.\n",
    "s.mode(nums)"
   ]
  },
  {
   "cell_type": "code",
   "execution_count": 34,
   "metadata": {},
   "outputs": [
    {
     "data": {
      "text/plain": [
       "'First Quartile: 20.5, Third Quartile 35.0'"
      ]
     },
     "execution_count": 34,
     "metadata": {},
     "output_type": "execute_result"
    }
   ],
   "source": [
    "# 1c\n",
    "a = np.percentile(nums, 25)\n",
    "b = np.percentile(nums, 75)\n",
    "f\"First Quartile: {a}, Third Quartile {b}\""
   ]
  },
  {
   "cell_type": "code",
   "execution_count": 35,
   "metadata": {},
   "outputs": [
    {
     "data": {
      "text/plain": [
       "'Five-number Summary, Minimum: 3, First Quartile: 20.5, Median: 25.0, Third Quartile: 35.0, Maximum: 70'"
      ]
     },
     "execution_count": 35,
     "metadata": {},
     "output_type": "execute_result"
    }
   ],
   "source": [
    "# 1d 5 number summary\n",
    "minimum = np.min(nums)\n",
    "q1 = np.percentile(nums, 25)\n",
    "median = np.median(nums)\n",
    "q3 = np.percentile(nums, 75)\n",
    "maximum = np.max(nums)\n",
    "f\"Five-number Summary, Minimum: {minimum}, First Quartile: {q1}, Median: {median}, Third Quartile: {q3}, Maximum: {maximum}\""
   ]
  },
  {
   "cell_type": "code",
   "execution_count": 36,
   "metadata": {},
   "outputs": [
    {
     "data": {
      "image/png": "[encoded data removed]",
      "text/plain": [
       "<Figure size 640x480 with 1 Axes>"
      ]
     },
     "metadata": {},
     "output_type": "display_data"
    }
   ],
   "source": [
    "# 1e boxplot\n",
    "mat.boxplot(nums)\n",
    "mat.title(\"Boxplot of numbers from Question 1\")\n",
    "mat.show()"
   ]
  }
 ],
 "metadata": {
  "kernelspec": {
   "display_name": "islp",
   "language": "python",
   "name": "python3"
  },
  "language_info": {
   "codemirror_mode": {
    "name": "ipython",
    "version": 3
   },
   "file_extension": ".py",
   "mimetype": "text/x-python",
   "name": "python",
   "nbconvert_exporter": "python",
   "pygments_lexer": "ipython3",
   "version": "3.13.5"
  }
 },
 "nbformat": 4,
 "nbformat_minor": 2
}
